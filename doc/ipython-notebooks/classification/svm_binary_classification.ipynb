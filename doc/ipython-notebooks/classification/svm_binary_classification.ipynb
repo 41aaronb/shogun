{
 "metadata": {
  "name": ""
 },
 "nbformat": 3,
 "nbformat_minor": 0,
 "worksheets": [
  {
   "cells": [
    {
     "cell_type": "code",
     "collapsed": false,
     "input": [
      "from numpy import concatenate as con\n",
      "from numpy import ones,mean,sign\n",
      "from numpy.random import randn\n",
      "num=1000; dist=1; width=2.1; C=1.0\n",
      "traindata=con((randn(2,num)-dist,\n",
      "randn(2,num)+dist), axis=1)\n",
      "testdata=con((randn(2,num)-dist,\n",
      "randn(2,num)+dist), axis=1)\n",
      "trainlab=con((-ones(num), ones(num)))\n",
      "testlab=con((-ones(num), ones(num)))"
     ],
     "language": "python",
     "metadata": {},
     "outputs": []
    },
    {
     "cell_type": "markdown",
     "metadata": {},
     "source": [
      "Generate two 2d-Gaussians\n",
      "\n",
      "$x_-\\sim{\\cal N_2}(0,1)-d$\n",
      "\n",
      "$x_+\\sim{\\cal N_2}(0,1)+d$"
     ]
    },
    {
     "cell_type": "code",
     "collapsed": false,
     "input": [
      "_=scatter(traindata[0,:], traindata[1,:], c=trainlab, s=100)"
     ],
     "language": "python",
     "metadata": {},
     "outputs": []
    },
    {
     "cell_type": "markdown",
     "metadata": {},
     "source": [
      "Create shogun features and label objects"
     ]
    },
    {
     "cell_type": "code",
     "collapsed": false,
     "input": [
      "from modshogun import *\n",
      "feats_train=RealFeatures(traindata)\n",
      "labels=BinaryLabels(trainlab)"
     ],
     "language": "python",
     "metadata": {},
     "outputs": []
    },
    {
     "cell_type": "markdown",
     "metadata": {},
     "source": [
      "Just for fun compute the kernel matrix and display it - the nice block structure of the matrix suggests that the data will be nicely separable (examples 0..999 when compared to each other have mostly higher scores than when compared to example 1000...1999 and vice versa)"
     ]
    },
    {
     "cell_type": "code",
     "collapsed": false,
     "input": [
      "kernel=GaussianKernel(feats_train, feats_train, width)"
     ],
     "language": "python",
     "metadata": {},
     "outputs": []
    },
    {
     "cell_type": "code",
     "collapsed": false,
     "input": [
      "km=kernel.get_kernel_matrix()\n",
      "_=imshow(km)\n",
      "_=colorbar()"
     ],
     "language": "python",
     "metadata": {},
     "outputs": []
    },
    {
     "cell_type": "markdown",
     "metadata": {},
     "source": [
      "Train SVM (LibSVM with GaussianKernel) and display the test error"
     ]
    },
    {
     "cell_type": "code",
     "collapsed": false,
     "input": [
      "svm=LibSVM(C, kernel, labels)\n",
      "_=svm.train()\n",
      "print svm.get_num_support_vectors()"
     ],
     "language": "python",
     "metadata": {},
     "outputs": []
    },
    {
     "cell_type": "code",
     "collapsed": false,
     "input": [
      "out=svm.apply(RealFeatures(testdata)).get_labels()\n",
      "testerr=mean(out!=testlab)\n",
      "print testerr"
     ],
     "language": "python",
     "metadata": {},
     "outputs": []
    },
    {
     "cell_type": "code",
     "collapsed": false,
     "input": [],
     "language": "python",
     "metadata": {},
     "outputs": []
    }
   ],
   "metadata": {}
  }
 ]
}