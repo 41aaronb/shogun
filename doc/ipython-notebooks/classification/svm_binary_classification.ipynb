{
 "metadata": {
  "name": ""
 },
 "nbformat": 3,
 "nbformat_minor": 0,
 "worksheets": [
  {
   "cells": [
    {
     "cell_type": "heading",
     "level": 1,
     "metadata": {},
     "source": [
      "Binary Classification with Support Vector Machines"
     ]
    },
    {
     "cell_type": "heading",
     "level": 4,
     "metadata": {},
     "source": [
      "by Soeren Sonnenburg"
     ]
    },
    {
     "cell_type": "markdown",
     "metadata": {},
     "source": [
      "This notebook illustrates how to train a binar support vector machine (SVM) classifier with shogun. \n",
      "A classifier attempts to distinguish objects of different type. In case of of binary classification there are just two types of objects that we want to distinguish."
     ]
    },
    {
     "cell_type": "markdown",
     "metadata": {},
     "source": [
      "More formally, we want to learn a decision function $f(x) \\mapsto {+1,-1}$ based on a number of training examples $(x,y)_{i=0}^{N-1}$ where $x\\in\\mathcal{X}$ and $y\\in\\{-1,+1\\}$. \n",
      "Now a [SVM](https://en.wikipedia.org/wiki/Support_vector_machine) is binary classifier tries to separate objects of different classes by finding a (hyper-)plane such that the margin between the two classes is maximized:\n",
      "\n",
      "More formally, a support vector machine is defined as\n",
      " $$f({\\bf x})=sign\\left(\\sum_{i=0}^{N-1} \\alpha_i k({\\bf x}, {\\bf x_i})+b\\right)$$\n",
      " \n",
      " where $N$ is the number of training examples\n",
      " $\\alpha_i$ are the weights assigned to each training example\n",
      " $k(x,x')$ is the kernel\n",
      " and $b$ the bias.\n",
      " \n",
      " Using an a-priori choosen kernel, the $\\alpha_i$ and bias are determined\n",
      " by solving the following quadratic program\n",
      " \n",
      "  \\begin{eqnarray*}\n",
      "       \\max_{\\bf \\alpha} && \\sum_{i=0}^{N-1} \\alpha_i - \\sum_{i=0}^{N-1}\\sum_{j=0}^{N-1} \\alpha_i y_i \\alpha_j y_j  k({\\bf x_i}, {\\bf x_j})\\\\\n",
      "       \\mbox{s.t.} && 0\\leq\\alpha_i\\leq C\\\\\n",
      "                   && \\sum_{i=0}^{N-1} \\alpha_i y_i=0\\\\\n",
      "\\end{eqnarray*}\n",
      " here C is a pre-specified regularization parameter.\n"
     ]
    },
    {
     "cell_type": "code",
     "collapsed": false,
     "input": [
      "from numpy import concatenate as con\n",
      "from numpy import ones,mean,sign\n",
      "from numpy.random import randn\n",
      "num=1000; dist=1; width=2.1; C=1.0\n",
      "traindata=con((randn(2,num)-dist,\n",
      "randn(2,num)+dist), axis=1)\n",
      "testdata=con((randn(2,num)-dist,\n",
      "randn(2,num)+dist), axis=1)\n",
      "trainlab=con((-ones(num), ones(num)))\n",
      "testlab=con((-ones(num), ones(num)))"
     ],
     "language": "python",
     "metadata": {},
     "outputs": []
    },
    {
     "cell_type": "markdown",
     "metadata": {},
     "source": [
      "Generate two 2d-Gaussians\n",
      "\n",
      "$x_-\\sim{\\cal N_2}(0,1)-d$\n",
      "\n",
      "$x_+\\sim{\\cal N_2}(0,1)+d$"
     ]
    },
    {
     "cell_type": "code",
     "collapsed": false,
     "input": [
      "_=scatter(traindata[0,:], traindata[1,:], c=trainlab, s=100)"
     ],
     "language": "python",
     "metadata": {},
     "outputs": []
    },
    {
     "cell_type": "markdown",
     "metadata": {},
     "source": [
      "Create shogun features and label objects"
     ]
    },
    {
     "cell_type": "code",
     "collapsed": false,
     "input": [
      "from modshogun import *\n",
      "feats_train=RealFeatures(traindata)\n",
      "labels=BinaryLabels(trainlab)"
     ],
     "language": "python",
     "metadata": {},
     "outputs": []
    },
    {
     "cell_type": "markdown",
     "metadata": {},
     "source": [
      "Just for fun compute the kernel matrix and display it - the nice block structure of the matrix suggests that the data will be nicely separable (examples 0..999 when compared to each other have mostly higher scores than when compared to example 1000...1999 and vice versa)"
     ]
    },
    {
     "cell_type": "code",
     "collapsed": false,
     "input": [
      "kernel=GaussianKernel(feats_train, feats_train, width)"
     ],
     "language": "python",
     "metadata": {},
     "outputs": []
    },
    {
     "cell_type": "code",
     "collapsed": false,
     "input": [
      "km=kernel.get_kernel_matrix()\n",
      "_=imshow(km)\n",
      "_=colorbar()"
     ],
     "language": "python",
     "metadata": {},
     "outputs": []
    },
    {
     "cell_type": "markdown",
     "metadata": {},
     "source": [
      "Train SVM (LibSVM with GaussianKernel) and display the test error"
     ]
    },
    {
     "cell_type": "code",
     "collapsed": false,
     "input": [
      "svm=LibSVM(C, kernel, labels)\n",
      "_=svm.train()\n",
      "print svm.get_num_support_vectors()"
     ],
     "language": "python",
     "metadata": {},
     "outputs": []
    },
    {
     "cell_type": "code",
     "collapsed": false,
     "input": [
      "out=svm.apply(RealFeatures(testdata)).get_labels()\n",
      "testerr=mean(out!=testlab)\n",
      "print testerr"
     ],
     "language": "python",
     "metadata": {},
     "outputs": []
    }
   ],
   "metadata": {}
  }
 ]
}