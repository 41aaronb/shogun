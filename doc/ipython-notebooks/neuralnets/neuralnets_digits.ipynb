{
 "metadata": {
  "name": "neuralnets_digits"
 },
 "nbformat": 3,
 "nbformat_minor": 0,
 "worksheets": [
  {
   "cells": [
    {
     "cell_type": "markdown",
     "metadata": {},
     "source": [
      "#Neural Networks for digit classification\n",
      "##by Khaled Nasr\n"
     ]
    },
    {
     "cell_type": "markdown",
     "metadata": {},
     "source": [
      "This notebook illustrates how to use the NeuralNets module for digit classification. We'll use the USPS dataset of handwritten digits to train and test a neural network."
     ]
    },
    {
     "cell_type": "code",
     "collapsed": false,
     "input": [
      "import numpy as np\n",
      "from scipy.io import loadmat\n",
      "from modshogun import NeuralNetwork\n",
      "from modshogun import NeuralLogisticLayer\n",
      "from modshogun import DynamicObjectArray\n",
      "from modshogun import RealFeatures\n",
      "\n",
      "# load the dataset\n",
      "dataset = loadmat('../../../data/multiclass/usps.mat')\n",
      "\n",
      "Xall = dataset['data']\n",
      "# the usps dataset has the digits labeled from 1 to 10 \n",
      "# we'll subtract 1 to make them in the 0-9 range instead\n",
      "Yall = dataset['label']-1 \n",
      "\n",
      "# the neural network will have 10 neurons in its output layer, one for each digit\n",
      "# therefore we need to give it the label for each example needs to be a vector of 10 elements\n",
      "Yall_expanded = np.eye(10)[:,np.squeeze(Yall)]\n",
      "\n",
      "# use the first 5000 examples for training, the rest will be used for testing\n",
      "Xtrain = Xall[:,0:5000]\n",
      "Ytrain = Yall_expanded[:,0:5000]\n",
      "\n",
      "# setup the network's layers\n",
      "layers = DynamicObjectArray()\n",
      "layers.append_element(NeuralLogisticLayer(50)) # 50 neurons in the hidden layer\n",
      "layers.append_element(NeuralLogisticLayer(10)) # 10 neurons in the output layer\n",
      "\n",
      "# create the network\n",
      "net = NeuralNetwork()\n",
      "net.initialize(256, layers) # 256 inputs, one for each pixel (images in the dataset are 16*16 pixels)\n",
      "\n",
      "# turn on regularization to reduce overfitting\n",
      "net.set_L2_regularization(0.001)\n",
      "\n",
      "# train the network, the error each iteration is printed to the console\n",
      "net.train_gradient_descent(RealFeatures(Xtrain), \n",
      "                           RealFeatures(Ytrain),\n",
      "                           300, # number of iterations over the training set\n",
      "                           1000); # mini-batch size\n",
      "\n",
      "# prepere the test set\n",
      "Xtest = Xall[:,5001:-1]\n",
      "Ytest = Yall[:,5001:-1]\n",
      "\n",
      "# apply the network to the test inputs\n",
      "predictions = net.apply(RealFeatures(Xtest)).get_feature_matrix()\n",
      "predictions = np.argmax(predictions, axis=0)\n",
      "\n",
      "# measure the test error\n",
      "test_error = float(np.sum(predictions!=Ytest))/Ytest.shape[1] * 100\n",
      "\n",
      "print \"Test Error =\", test_error, \"%\""
     ],
     "language": "python",
     "metadata": {},
     "outputs": [
      {
       "output_type": "stream",
       "stream": "stdout",
       "text": [
        "Test Error = 8.58938547486 %\n"
       ]
      }
     ],
     "prompt_number": 4
    },
    {
     "cell_type": "code",
     "collapsed": false,
     "input": [],
     "language": "python",
     "metadata": {},
     "outputs": []
    }
   ],
   "metadata": {}
  }
 ]
}